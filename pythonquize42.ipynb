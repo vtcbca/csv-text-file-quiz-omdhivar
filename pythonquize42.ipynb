{
 "cells": [
  {
   "cell_type": "code",
   "execution_count": 1,
   "id": "130239a9",
   "metadata": {},
   "outputs": [],
   "source": [
    "import csv"
   ]
  },
  {
   "cell_type": "code",
   "execution_count": 2,
   "id": "cb2f34c6",
   "metadata": {},
   "outputs": [],
   "source": [
    "def getsalary_record():\n",
    "    sid=int(input(\"enter id\"))\n",
    "    sname=input(\"enter name\")\n",
    "    salary=int(input(\"enter salary\"))\n",
    "    return[sid,sname,salary]"
   ]
  },
  {
   "cell_type": "code",
   "execution_count": 3,
   "id": "88fb9a60",
   "metadata": {},
   "outputs": [],
   "source": [
    "#create list for a getsalary\n",
    "record=[\n",
    "    [1,\"om\",50000],\n",
    "    [2,\"sai\",40000],\n",
    "    [3,\"ram\",30000],\n",
    "    [4,\"sita\",50000],\n",
    "    [5,\"hanuman\",70000]\n",
    "]"
   ]
  },
  {
   "cell_type": "code",
   "execution_count": 4,
   "id": "ead94741",
   "metadata": {},
   "outputs": [],
   "source": [
    "with open(\"salary.csv\",\"w\", newline=\"\") as file:\n",
    "     writer = csv.writer(file)\n",
    "     writer.writerow([\"sid\", \"sname\", \"salary\"])\n",
    "     writer.writerows(record)"
   ]
  },
  {
   "cell_type": "code",
   "execution_count": 5,
   "id": "603afba5",
   "metadata": {},
   "outputs": [],
   "source": [
    "count_s = 0\n",
    "with open('salary.csv', 'r') as csvfile:\n",
    "    reader = csv.DictReader(csvfile)"
   ]
  },
  {
   "cell_type": "code",
   "execution_count": null,
   "id": "7b372f62",
   "metadata": {},
   "outputs": [],
   "source": []
  }
 ],
 "metadata": {
  "kernelspec": {
   "display_name": "Python 3 (ipykernel)",
   "language": "python",
   "name": "python3"
  },
  "language_info": {
   "codemirror_mode": {
    "name": "ipython",
    "version": 3
   },
   "file_extension": ".py",
   "mimetype": "text/x-python",
   "name": "python",
   "nbconvert_exporter": "python",
   "pygments_lexer": "ipython3",
   "version": "3.11.4"
  }
 },
 "nbformat": 4,
 "nbformat_minor": 5
}
